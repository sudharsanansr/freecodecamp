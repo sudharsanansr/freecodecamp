{
 "nbformat": 4,
 "nbformat_minor": 2,
 "metadata": {
  "language_info": {
   "name": "python",
   "codemirror_mode": {
    "name": "ipython",
    "version": 3
   },
   "version": "3.7.3-final"
  },
  "orig_nbformat": 2,
  "file_extension": ".py",
  "mimetype": "text/x-python",
  "name": "python",
  "npconvert_exporter": "python",
  "pygments_lexer": "ipython3",
  "version": 3,
  "kernelspec": {
   "name": "python3",
   "display_name": "Python 3"
  }
 },
 "cells": [
  {
   "cell_type": "code",
   "execution_count": 1,
   "metadata": {},
   "outputs": [
    {
     "ename": "NameError",
     "evalue": "name 'os' is not defined",
     "output_type": "error",
     "traceback": [
      "\u001b[0;31m---------------------------------------------------------------------------\u001b[0m",
      "\u001b[0;31mNameError\u001b[0m                                 Traceback (most recent call last)",
      "\u001b[0;32m<ipython-input-1-2e73effdc8c7>\u001b[0m in \u001b[0;36m<module>\u001b[0;34m\u001b[0m\n\u001b[0;32m----> 1\u001b[0;31m \u001b[0mos\u001b[0m\u001b[0;34m.\u001b[0m\u001b[0msystem\u001b[0m\u001b[0;34m(\u001b[0m\u001b[0;34m\"open /Applications/slack.app\"\u001b[0m\u001b[0;34m)\u001b[0m\u001b[0;34m\u001b[0m\u001b[0;34m\u001b[0m\u001b[0m\n\u001b[0m",
      "\u001b[0;31mNameError\u001b[0m: name 'os' is not defined"
     ]
    }
   ],
   "source": [
    "os.system(\"open /Applications/slack.app\")"
   ]
  },
  {
   "cell_type": "code",
   "execution_count": 3,
   "metadata": {},
   "outputs": [
    {
     "data": {
      "text/plain": "0"
     },
     "execution_count": 3,
     "metadata": {},
     "output_type": "execute_result"
    }
   ],
   "source": [
    "import os as os\n",
    "os.system('open /Applications/slack.app')"
   ]
  },
  {
   "cell_type": "code",
   "execution_count": 49,
   "metadata": {},
   "outputs": [
    {
     "name": "stdout",
     "output_type": "stream",
     "text": "{\"short_description\": \"Insert from Python\", \"impact\": \"3\", \"urgency\": \"2\"}\n{\"short_description\": \"Insert from Python\", \"impact\": \"3\", \"urgency\": \"2\"}\nRequest Success!\n<class 'dict'>\n{\n    \"result\": {\n        \"parent\": \"\",\n        \"made_sla\": \"true\",\n        \"caused_by\": \"\",\n        \"watch_list\": \"\",\n        \"u_teststring\": \"\",\n        \"upon_reject\": \"cancel\",\n        \"sys_updated_on\": \"2020-05-09 14:19:59\",\n        \"u_test\": \"\",\n        \"child_incidents\": \"0\",\n        \"hold_reason\": \"\",\n        \"approval_history\": \"\",\n        \"number\": \"INC0010039\",\n        \"resolved_by\": \"\",\n        \"sys_updated_by\": \"admin\",\n        \"opened_by\": {\n            \"link\": \"https://sooz.service-now.com/api/now/table/sys_user/6816f79cc0a8016401c5a33be04be441\",\n            \"value\": \"6816f79cc0a8016401c5a33be04be441\"\n        },\n        \"user_input\": \"\",\n        \"sys_created_on\": \"2020-05-09 14:19:59\",\n        \"sys_domain\": {\n            \"link\": \"https://sooz.service-now.com/api/now/table/sys_user_group/global\",\n            \"value\": \"global\"\n        },\n        \"state\": \"1\",\n        \"sys_created_by\": \"admin\",\n        \"knowledge\": \"false\",\n        \"order\": \"\",\n        \"u_onemore_keyvale\": \"\",\n        \"calendar_stc\": \"\",\n        \"closed_at\": \"\",\n        \"cmdb_ci\": \"\",\n        \"delivery_plan\": \"\",\n        \"impact\": \"3\",\n        \"u_keyvalue_test\": \"\",\n        \"active\": \"true\",\n        \"work_notes_list\": \"\",\n        \"business_service\": \"\",\n        \"priority\": \"4\",\n        \"sys_domain_path\": \"/\",\n        \"rfc\": \"\",\n        \"time_worked\": \"\",\n        \"expected_start\": \"\",\n        \"opened_at\": \"2020-05-09 14:19:59\",\n        \"business_duration\": \"\",\n        \"group_list\": \"\",\n        \"work_end\": \"\",\n        \"caller_id\": \"\",\n        \"reopened_time\": \"\",\n        \"resolved_at\": \"\",\n        \"approval_set\": \"\",\n        \"subcategory\": \"\",\n        \"work_notes\": \"\",\n        \"short_description\": \"Insert from Python\",\n        \"close_code\": \"\",\n        \"correlation_display\": \"\",\n        \"delivery_task\": \"\",\n        \"work_start\": \"\",\n        \"assignment_group\": \"\",\n        \"additional_assignee_list\": \"\",\n        \"business_stc\": \"\",\n        \"description\": \"\",\n        \"calendar_duration\": \"\",\n        \"close_notes\": \"\",\n        \"notify\": \"1\",\n        \"service_offering\": \"\",\n        \"sys_class_name\": \"incident\",\n        \"closed_by\": \"\",\n        \"follow_up\": \"\",\n        \"parent_incident\": \"\",\n        \"sys_id\": \"ebbbf6ab1bac9410b04cda09dc4bcb60\",\n        \"contact_type\": \"\",\n        \"reopened_by\": \"\",\n        \"incident_state\": \"1\",\n        \"urgency\": \"2\",\n        \"problem_id\": \"\",\n        \"company\": \"\",\n        \"reassignment_count\": \"0\",\n        \"activity_due\": \"\",\n        \"assigned_to\": \"\",\n        \"severity\": \"3\",\n        \"comments\": \"\",\n        \"approval\": \"not requested\",\n        \"sla_due\": \"\",\n        \"comments_and_work_notes\": \"\",\n        \"due_date\": \"\",\n        \"sys_mod_count\": \"0\",\n        \"reopen_count\": \"0\",\n        \"sys_tags\": \"\",\n        \"u_test2\": \"\",\n        \"escalation\": \"0\",\n        \"upon_approval\": \"proceed\",\n        \"correlation_id\": \"\",\n        \"location\": \"\",\n        \"category\": \"inquiry\"\n    }\n}\n{\"result\": {\"parent\": \"\", \"made_sla\": \"true\", \"caused_by\": \"\", \"watch_list\": \"\", \"u_teststring\": \"\", \"upon_reject\": \"cancel\", \"sys_updated_on\": \"2020-05-09 14:19:59\", \"u_test\": \"\", \"child_incidents\": \"0\", \"hold_reason\": \"\", \"approval_history\": \"\", \"number\": \"INC0010039\", \"resolved_by\": \"\", \"sys_updated_by\": \"admin\", \"opened_by\": {\"link\": \"https://sooz.service-now.com/api/now/table/sys_user/6816f79cc0a8016401c5a33be04be441\", \"value\": \"6816f79cc0a8016401c5a33be04be441\"}, \"user_input\": \"\", \"sys_created_on\": \"2020-05-09 14:19:59\", \"sys_domain\": {\"link\": \"https://sooz.service-now.com/api/now/table/sys_user_group/global\", \"value\": \"global\"}, \"state\": \"1\", \"sys_created_by\": \"admin\", \"knowledge\": \"false\", \"order\": \"\", \"u_onemore_keyvale\": \"\", \"calendar_stc\": \"\", \"closed_at\": \"\", \"cmdb_ci\": \"\", \"delivery_plan\": \"\", \"impact\": \"3\", \"u_keyvalue_test\": \"\", \"active\": \"true\", \"work_notes_list\": \"\", \"business_service\": \"\", \"priority\": \"4\", \"sys_domain_path\": \"/\", \"rfc\": \"\", \"time_worked\": \"\", \"expected_start\": \"\", \"opened_at\": \"2020-05-09 14:19:59\", \"business_duration\": \"\", \"group_list\": \"\", \"work_end\": \"\", \"caller_id\": \"\", \"reopened_time\": \"\", \"resolved_at\": \"\", \"approval_set\": \"\", \"subcategory\": \"\", \"work_notes\": \"\", \"short_description\": \"Insert from Python\", \"close_code\": \"\", \"correlation_display\": \"\", \"delivery_task\": \"\", \"work_start\": \"\", \"assignment_group\": \"\", \"additional_assignee_list\": \"\", \"business_stc\": \"\", \"description\": \"\", \"calendar_duration\": \"\", \"close_notes\": \"\", \"notify\": \"1\", \"service_offering\": \"\", \"sys_class_name\": \"incident\", \"closed_by\": \"\", \"follow_up\": \"\", \"parent_incident\": \"\", \"sys_id\": \"ebbbf6ab1bac9410b04cda09dc4bcb60\", \"contact_type\": \"\", \"reopened_by\": \"\", \"incident_state\": \"1\", \"urgency\": \"2\", \"problem_id\": \"\", \"company\": \"\", \"reassignment_count\": \"0\", \"activity_due\": \"\", \"assigned_to\": \"\", \"severity\": \"3\", \"comments\": \"\", \"approval\": \"not requested\", \"sla_due\": \"\", \"comments_and_work_notes\": \"\", \"due_date\": \"\", \"sys_mod_count\": \"0\", \"reopen_count\": \"0\", \"sys_tags\": \"\", \"u_test2\": \"\", \"escalation\": \"0\", \"upon_approval\": \"proceed\", \"correlation_id\": \"\", \"location\": \"\", \"category\": \"inquiry\"}}\n"
    }
   ],
   "source": [
    "import json\n",
    "import requests as req\n",
    "headers = {'Accept':'application/json','Content-Type':'application/json'}\n",
    "user = 'admin'\n",
    "pswd = 'admin@123'\n",
    "data = {\n",
    "    'short_description':'Insert from Python',\n",
    "    'impact':'3',\n",
    "    'urgency':'2'\n",
    "}\n",
    "print(json.dumps(data))\n",
    "print(str(json.dumps(data)))\n",
    "response = req.post('https://sooz.service-now.com/api/now/table/incident',headers=headers,auth=(user,pswd),data=str(json.dumps(data)))\n",
    "if(response.status_code == 201):\n",
    "    print(\"Request Success!\")\n",
    "\n",
    "res = response.json()\n",
    "print(type(res))\n",
    "print(json.dumps(res,indent=4))\n",
    "print(json.JSONEncoder().encode(res))"
   ]
  },
  {
   "cell_type": "code",
   "execution_count": null,
   "metadata": {},
   "outputs": [],
   "source": []
  }
 ]
}